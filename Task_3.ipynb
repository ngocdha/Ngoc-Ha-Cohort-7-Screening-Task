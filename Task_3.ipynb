{
 "cells": [
  {
   "cell_type": "markdown",
   "id": "c4ca14dd-d308-4944-a1c6-e2e9858d0001",
   "metadata": {},
   "source": [
    "# Ngoc Ha"
   ]
  },
  {
   "cell_type": "markdown",
   "id": "79c28d51-3a8d-4abe-8bd1-dbb19b94766b",
   "metadata": {},
   "source": [
    "# Task 3 - QC mentorship screening"
   ]
  },
  {
   "cell_type": "markdown",
   "id": "667d7334-3da6-48ec-b3ca-014fb7811caf",
   "metadata": {
    "tags": []
   },
   "source": [
    "# QAOA-encoding-kernel SVM"
   ]
  },
  {
   "cell_type": "code",
   "execution_count": 1,
   "id": "de061a2b-3fd8-48d2-a861-15460cdbbc0b",
   "metadata": {},
   "outputs": [],
   "source": [
    "import numpy as np\n",
    "import torch\n",
    "from torch.nn.functional import relu\n",
    "\n",
    "from sklearn.svm import SVC\n",
    "from sklearn.datasets import load_iris\n",
    "from sklearn.preprocessing import StandardScaler\n",
    "from sklearn.model_selection import train_test_split\n",
    "from sklearn.metrics import accuracy_score\n",
    "\n",
    "import pennylane as qml\n",
    "from pennylane.templates import AngleEmbedding, AmplitudeEmbedding, QAOAEmbedding\n",
    "from pennylane.operation import Tensor\n",
    "\n",
    "from time import time\n",
    "\n",
    "import matplotlib.pyplot as plt\n",
    "\n",
    "np.random.seed(2023)"
   ]
  },
  {
   "cell_type": "code",
   "execution_count": 4,
   "id": "98286dfd-b9db-44ff-a257-2802a268d05b",
   "metadata": {},
   "outputs": [],
   "source": [
    "X, y = load_iris(return_X_y=True)\n",
    "\n",
    "X_train, X_test, y_train, y_test = train_test_split(X, y)"
   ]
  },
  {
   "cell_type": "code",
   "execution_count": 5,
   "id": "e30a6627-d7a6-46ce-9157-6050777a7ecd",
   "metadata": {},
   "outputs": [
    {
     "data": {
      "text/plain": [
       "4"
      ]
     },
     "execution_count": 5,
     "metadata": {},
     "output_type": "execute_result"
    }
   ],
   "source": [
    "n_qubits = len(X[0])\n",
    "n_qubits"
   ]
  },
  {
   "cell_type": "markdown",
   "id": "fa195635-70bc-4cc1-a000-1467d9e939cd",
   "metadata": {},
   "source": [
    "### The parametrized kernel is computed by taking inner product after QAOA embedding\n",
    "### Inner product is computed using the \"adjoint method\"\n",
    "### QAOA embedding circuit uses 2 layers, 4 features, 4 wires"
   ]
  },
  {
   "cell_type": "code",
   "execution_count": 6,
   "id": "6c7d3984-ab7a-42f6-9570-db2f68b75a51",
   "metadata": {},
   "outputs": [],
   "source": [
    "dev_kernel = qml.device('default.qubit', wires=4)\n",
    "\n",
    "@qml.qnode(dev_kernel, interface = \"autograd\")\n",
    "def kernel(x1, x2):\n",
    "    projector = np.zeros((2**n_qubits, 2**n_qubits))\n",
    "    projector[0, 0] = 1\n",
    "    shape = qml.QAOAEmbedding.shape(n_layers=2, n_wires=4)\n",
    "    weights = np.random.random(shape)\n",
    "    QAOAEmbedding(features=x1, weights=weights, wires=range(4))\n",
    "    qml.adjoint(QAOAEmbedding)(features=x2, weights=weights, wires=range(4))\n",
    "    return qml.expval(qml.Hermitian(projector, wires=range(n_qubits)))"
   ]
  },
  {
   "cell_type": "code",
   "execution_count": 7,
   "id": "34313c43-5501-4c2f-861b-19d349a51ddb",
   "metadata": {},
   "outputs": [
    {
     "data": {
      "text/plain": [
       "tensor(1., requires_grad=True)"
      ]
     },
     "execution_count": 7,
     "metadata": {},
     "output_type": "execute_result"
    }
   ],
   "source": [
    "kernel(X_train[0], X_train[0]) # sanity check, should return 1"
   ]
  },
  {
   "cell_type": "code",
   "execution_count": 8,
   "id": "4321eee1-b37b-4624-ba9a-9bd8bc1bf03c",
   "metadata": {},
   "outputs": [],
   "source": [
    "def kernel_matrix(A, B):\n",
    "    \"\"\"Compute the matrix whose entries are the kernel\n",
    "       evaluated on pairwise data from sets A and B.\"\"\"\n",
    "    return np.array([[kernel(a, b) for b in B] for a in A])"
   ]
  },
  {
   "cell_type": "code",
   "execution_count": 9,
   "id": "a807bc7c-40d0-4e42-a61e-b503c43e589d",
   "metadata": {},
   "outputs": [
    {
     "name": "stdout",
     "output_type": "stream",
     "text": [
      "Training time: -132.224591255188\n"
     ]
    }
   ],
   "source": [
    "start = time()\n",
    "svm = SVC(kernel=kernel_matrix).fit(X_train, y_train)\n",
    "end = time()"
   ]
  },
  {
   "cell_type": "code",
   "execution_count": 11,
   "id": "b9bb4f4d-259d-4ac7-a9db-52e93edfc178",
   "metadata": {},
   "outputs": [
    {
     "name": "stdout",
     "output_type": "stream",
     "text": [
      "Training time: 132.224591255188\n"
     ]
    }
   ],
   "source": [
    "print(\"Training time:\", end-start)"
   ]
  },
  {
   "cell_type": "code",
   "execution_count": 12,
   "id": "fc16bd98-30d8-45a0-861a-e809cefd51d5",
   "metadata": {},
   "outputs": [
    {
     "data": {
      "text/plain": [
       "0.9473684210526315"
      ]
     },
     "execution_count": 12,
     "metadata": {},
     "output_type": "execute_result"
    }
   ],
   "source": [
    "predictions = svm.predict(X_test)\n",
    "accuracy_score(predictions, y_test)"
   ]
  },
  {
   "cell_type": "markdown",
   "id": "0f594476-a380-41c3-ac81-466490b97914",
   "metadata": {
    "tags": []
   },
   "source": [
    "# Angle-encoding-kernel SVM"
   ]
  },
  {
   "cell_type": "code",
   "execution_count": 13,
   "id": "b4b7548a-5295-4cfa-8817-c4597939203e",
   "metadata": {},
   "outputs": [],
   "source": [
    "# scaling the inputs is important since the embedding we use is periodic\n",
    "scaler = StandardScaler().fit(X)\n",
    "X_scaled = scaler.transform(X)\n",
    "\n",
    "# don't need to scale labels as sklearn will take care of them\n",
    "y_scaled = y\n",
    "\n",
    "X_train_scaled, X_test_scaled, y_train_scaled, y_test_scaled = train_test_split(X_scaled, y_scaled)"
   ]
  },
  {
   "cell_type": "code",
   "execution_count": 14,
   "id": "02deba30-89b1-402d-bcdc-f88b89292d48",
   "metadata": {},
   "outputs": [],
   "source": [
    "dev_kernel_2 = qml.device(\"default.qubit\", wires=n_qubits)\n",
    "\n",
    "@qml.qnode(dev_kernel_2, interface=\"autograd\")\n",
    "def kernel_2(x1, x2):\n",
    "    \"\"\"Angle-encoding-based kernel\"\"\"\n",
    "    projector = np.zeros((2**n_qubits, 2**n_qubits))\n",
    "    projector[0, 0] = 1\n",
    "    AngleEmbedding(x1, wires=range(n_qubits))\n",
    "    qml.adjoint(AngleEmbedding)(x2, wires=range(n_qubits))\n",
    "    return qml.expval(qml.Hermitian(projector, wires=range(n_qubits)))"
   ]
  },
  {
   "cell_type": "code",
   "execution_count": 15,
   "id": "684510e5-8ace-414c-b913-f7c8f89cc266",
   "metadata": {},
   "outputs": [
    {
     "data": {
      "text/plain": [
       "tensor(1., requires_grad=True)"
      ]
     },
     "execution_count": 15,
     "metadata": {},
     "output_type": "execute_result"
    }
   ],
   "source": [
    "kernel_2(X_train_scaled[0], X_train_scaled[0]) # sanity check, should return 1"
   ]
  },
  {
   "cell_type": "code",
   "execution_count": 16,
   "id": "97f795a6-fbda-4b34-a9a2-eeeded143573",
   "metadata": {},
   "outputs": [],
   "source": [
    "def kernel_matrix_2(A, B):\n",
    "    \"\"\"Compute the matrix whose entries are the kernel\n",
    "       evaluated on pairwise data from sets A and B.\"\"\"\n",
    "    return np.array([[kernel_2(a, b) for b in B] for a in A])"
   ]
  },
  {
   "cell_type": "code",
   "execution_count": 17,
   "id": "dc2555fe-3743-4f30-91cf-750f6fb26458",
   "metadata": {},
   "outputs": [],
   "source": [
    "start_2 = time()\n",
    "svm_2 = SVC(kernel=kernel_matrix_2).fit(X_train_scaled, y_train_scaled)\n",
    "end_2 = time()"
   ]
  },
  {
   "cell_type": "code",
   "execution_count": 18,
   "id": "817c903c-3ef7-4854-9e4c-d7ecf3e6fa62",
   "metadata": {},
   "outputs": [
    {
     "name": "stdout",
     "output_type": "stream",
     "text": [
      "Training time: 40.013169050216675\n"
     ]
    }
   ],
   "source": [
    "print(\"Training time:\", end_2-start_2)"
   ]
  },
  {
   "cell_type": "code",
   "execution_count": 19,
   "id": "a6e54fed-5346-4a41-90c0-703de3cc9645",
   "metadata": {},
   "outputs": [
    {
     "data": {
      "text/plain": [
       "0.9736842105263158"
      ]
     },
     "execution_count": 19,
     "metadata": {},
     "output_type": "execute_result"
    }
   ],
   "source": [
    "predictions_2 = svm_2.predict(X_test_scaled)\n",
    "accuracy_score(predictions_2, y_test_scaled)"
   ]
  },
  {
   "cell_type": "markdown",
   "id": "655d81c2-5677-49c0-9ebb-3140f46eeade",
   "metadata": {},
   "source": [
    "#### SVM with an angle-encoding-based kernel outperforms SVM using a QAOA-embedding-based kernel (acc: 0.974 vs 0.947), while needing much less training time (40s vs 132s) and requiring the same number of qubits (4)."
   ]
  },
  {
   "cell_type": "markdown",
   "id": "8dcc3955-3827-49fa-8467-e38d821f877b",
   "metadata": {},
   "source": [
    "(This result is specific for QAOA embedding with 2 layers, 4 features, 4 wires and seed = 2023.)"
   ]
  },
  {
   "cell_type": "code",
   "execution_count": null,
   "id": "6bd6407b-f010-437a-ae20-5d8987485528",
   "metadata": {},
   "outputs": [],
   "source": []
  },
  {
   "cell_type": "code",
   "execution_count": null,
   "id": "c83362c3-964f-4ba3-ae2e-59f76bd86ad0",
   "metadata": {},
   "outputs": [],
   "source": []
  },
  {
   "cell_type": "code",
   "execution_count": null,
   "id": "465d1d65-89af-49ef-a664-cf8c8698ea4b",
   "metadata": {},
   "outputs": [],
   "source": []
  },
  {
   "cell_type": "code",
   "execution_count": null,
   "id": "af64b4ff-c448-4643-a7b0-da569fb4b40d",
   "metadata": {},
   "outputs": [],
   "source": []
  },
  {
   "cell_type": "code",
   "execution_count": null,
   "id": "4ea22151-c956-497c-b575-930b3b5d33d8",
   "metadata": {},
   "outputs": [],
   "source": []
  },
  {
   "cell_type": "code",
   "execution_count": null,
   "id": "386e4280-bcda-4fff-8fef-961867e9b551",
   "metadata": {},
   "outputs": [],
   "source": []
  },
  {
   "cell_type": "code",
   "execution_count": null,
   "id": "43b00f85-04e1-435b-a6b3-368d92c41a29",
   "metadata": {},
   "outputs": [],
   "source": []
  },
  {
   "cell_type": "code",
   "execution_count": null,
   "id": "6f90e18b-f02d-4015-914d-49800d4c3f1a",
   "metadata": {},
   "outputs": [],
   "source": []
  }
 ],
 "metadata": {
  "kernelspec": {
   "display_name": "Python [conda env:quantum] *",
   "language": "python",
   "name": "conda-env-quantum-py"
  },
  "language_info": {
   "codemirror_mode": {
    "name": "ipython",
    "version": 3
   },
   "file_extension": ".py",
   "mimetype": "text/x-python",
   "name": "python",
   "nbconvert_exporter": "python",
   "pygments_lexer": "ipython3",
   "version": "3.9.16"
  }
 },
 "nbformat": 4,
 "nbformat_minor": 5
}
